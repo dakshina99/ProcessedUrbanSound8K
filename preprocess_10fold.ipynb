{
 "cells": [
  {
   "cell_type": "code",
   "execution_count": 1,
   "metadata": {},
   "outputs": [],
   "source": [
    "import librosa\n",
    "import soundfile as sf\n",
    "import numpy as np\n",
    "import os\n",
    "import glob"
   ]
  },
  {
   "cell_type": "code",
   "execution_count": 2,
   "metadata": {},
   "outputs": [],
   "source": [
    "# change the sample rate and the number of samples according to your needs\n",
    "sr = 20000\n",
    "samples = 100000"
   ]
  },
  {
   "cell_type": "code",
   "execution_count": 3,
   "metadata": {},
   "outputs": [],
   "source": [
    "mainDir = os.getcwd()\n",
    "dst_path = os.path.join(mainDir, 'data')"
   ]
  },
  {
   "cell_type": "code",
   "execution_count": 4,
   "metadata": {},
   "outputs": [
    {
     "name": "stdout",
     "output_type": "stream",
     "text": [
      "Fold 1: Shapes X: (873, 100000) y: (873,)\n",
      "Fold 2: Shapes X: (888, 100000) y: (888,)\n",
      "Fold 3: Shapes X: (925, 100000) y: (925,)\n",
      "Fold 4: Shapes X: (990, 100000) y: (990,)\n",
      "Fold 5: Shapes X: (936, 100000) y: (936,)\n",
      "Fold 6: Shapes X: (823, 100000) y: (823,)\n",
      "Fold 7: Shapes X: (838, 100000) y: (838,)\n",
      "Fold 8: Shapes X: (806, 100000) y: (806,)\n",
      "Fold 9: Shapes X: (816, 100000) y: (816,)\n",
      "Fold 10: Shapes X: (837, 100000) y: (837,)\n",
      "Dataset created\n"
     ]
    }
   ],
   "source": [
    "urbanSound8k = {}\n",
    "\n",
    "for fold in range(1, 11):\n",
    "    urbanSound8k['fold{}'.format(fold)] = {}\n",
    "    \n",
    "    fold_X = []\n",
    "    fold_y = []\n",
    "    \n",
    "    for src_file in sorted(glob.glob(os.path.join(dst_path, 'fold{}'.format(fold), '*.wav'))):\n",
    "        audio_data, s = librosa.load(src_file, sr=sr, mono=True)\n",
    "        length = len(audio_data)\n",
    "        n = samples//length + 1\n",
    "        audio_data = np.tile(audio_data, n)\n",
    "        audio_data = audio_data[:samples]\n",
    "        \n",
    "        fold_X.append(audio_data)\n",
    "        fold_y.append(int(src_file.split('-')[1]))\n",
    "    \n",
    "    fold_X = np.array(fold_X)\n",
    "    fold_y = np.array(fold_y)\n",
    "    print('Fold {}: Shapes X: {} y: {}'.format(fold, fold_X.shape, fold_y.shape))\n",
    "    \n",
    "    urbanSound8k['fold{}'.format(fold)]['sounds'] = fold_X\n",
    "    urbanSound8k['fold{}'.format(fold)]['labels'] = fold_y\n",
    "\n",
    "\n",
    "save_path = os.path.join(dst_path, 'wav{}.npz'.format(sr//1000))\n",
    "np.savez(save_path, **urbanSound8k)   \n",
    "print('Dataset created')"
   ]
  }
 ],
 "metadata": {
  "kernelspec": {
   "display_name": "tf-gpu-env",
   "language": "python",
   "name": "python3"
  },
  "language_info": {
   "codemirror_mode": {
    "name": "ipython",
    "version": 3
   },
   "file_extension": ".py",
   "mimetype": "text/x-python",
   "name": "python",
   "nbconvert_exporter": "python",
   "pygments_lexer": "ipython3",
   "version": "3.12.3"
  }
 },
 "nbformat": 4,
 "nbformat_minor": 2
}
